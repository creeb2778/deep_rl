{
 "cells": [
  {
   "cell_type": "markdown",
   "metadata": {},
   "source": [
    "# Import Needed Librarys"
   ]
  },
  {
   "cell_type": "code",
   "execution_count": 1,
   "metadata": {},
   "outputs": [],
   "source": [
    "from unityagents import UnityEnvironment\n",
    "import numpy as np\n",
    "import matplotlib.pyplot as plt\n",
    "from collections import namedtuple, deque\n",
    "import torch\n",
    "from doub_dqn_agent import ddqn_agent\n",
    "import pandas as pd"
   ]
  },
  {
   "cell_type": "markdown",
   "metadata": {},
   "source": [
    "## Import env, brain, and explore state space"
   ]
  },
  {
   "cell_type": "code",
   "execution_count": 2,
   "metadata": {},
   "outputs": [
    {
     "name": "stderr",
     "output_type": "stream",
     "text": [
      "INFO:unityagents:\n",
      "'Academy' started successfully!\n",
      "Unity Academy name: Academy\n",
      "        Number of Brains: 1\n",
      "        Number of External Brains : 1\n",
      "        Lesson number : 0\n",
      "        Reset Parameters :\n",
      "\t\t\n",
      "Unity brain name: BananaBrain\n",
      "        Number of Visual Observations (per agent): 0\n",
      "        Vector Observation space type: continuous\n",
      "        Vector Observation space size (per agent): 37\n",
      "        Number of stacked Vector Observation: 1\n",
      "        Vector Action space type: discrete\n",
      "        Vector Action space size (per agent): 4\n",
      "        Vector Action descriptions: , , , \n"
     ]
    }
   ],
   "source": [
    "env = UnityEnvironment(file_name='Banana_Linux/Banana.x86_64')"
   ]
  },
  {
   "cell_type": "code",
   "execution_count": 3,
   "metadata": {},
   "outputs": [],
   "source": [
    "# get the default brain\n",
    "brain_name = env.brain_names[0]\n",
    "brain = env.brains[brain_name]"
   ]
  },
  {
   "cell_type": "code",
   "execution_count": 4,
   "metadata": {},
   "outputs": [
    {
     "name": "stdout",
     "output_type": "stream",
     "text": [
      "Number of agents: 1\n",
      "Number of actions: 4\n",
      "States look like: [1.         0.         0.         0.         0.84408134 0.\n",
      " 0.         1.         0.         0.0748472  0.         1.\n",
      " 0.         0.         0.25755    1.         0.         0.\n",
      " 0.         0.74177343 0.         1.         0.         0.\n",
      " 0.25854847 0.         0.         1.         0.         0.09355672\n",
      " 0.         1.         0.         0.         0.31969345 0.\n",
      " 0.        ]\n",
      "States have length: 37\n"
     ]
    }
   ],
   "source": [
    "# reset the environment\n",
    "env_info = env.reset(train_mode=True)[brain_name]\n",
    "\n",
    "# number of agents in the environment\n",
    "print('Number of agents:', len(env_info.agents))\n",
    "\n",
    "# number of actions\n",
    "action_size = brain.vector_action_space_size\n",
    "print('Number of actions:', action_size)\n",
    "\n",
    "# examine the state space \n",
    "state = env_info.vector_observations[0]\n",
    "print('States look like:', state)\n",
    "state_size = len(state)\n",
    "print('States have length:', state_size)"
   ]
  },
  {
   "cell_type": "markdown",
   "metadata": {},
   "source": [
    "Import our DQN agent and set up training code"
   ]
  },
  {
   "cell_type": "code",
   "execution_count": 6,
   "metadata": {},
   "outputs": [],
   "source": [
    "st_size = len(env_info.vector_observations[0])\n",
    "agent = ddqn_agent(state_size=st_size,action_size=brain.vector_action_space_size,seed=77)"
   ]
  },
  {
   "cell_type": "code",
   "execution_count": 7,
   "metadata": {},
   "outputs": [],
   "source": [
    "#set path to save model results to. \n",
    "path = 'ddqn_sub/'\n"
   ]
  },
  {
   "cell_type": "code",
   "execution_count": 8,
   "metadata": {},
   "outputs": [],
   "source": [
    "def ddqn(n_episodes = 2000, max_t = 1000, eps_start = 1, eps_end = 0.01, eps_decay = 0.995, path=path):\n",
    "    \"\"\"Deep Q-Learning.\n",
    "    \n",
    "    Params\n",
    "    ======\n",
    "        n_episodes (int): maximum number of training episodes\n",
    "        max_t (int): maximum number of timesteps per episode\n",
    "        eps_start (float): starting value of epsilon, for epsilon-greedy action selection\n",
    "        eps_end (float): minimum value of epsilon\n",
    "        eps_decay (float): multiplicative factor (per episode) for decreasing epsilon\n",
    "        path: location of folder to save model outputs and weights\n",
    "    \"\"\"\n",
    "    scores = []\n",
    "    score_window = deque(maxlen=100) #hold last 100 scores\n",
    "    eps = eps_start                  #init eps\n",
    "    \n",
    "    for i_ep in range(1,n_episodes+1):\n",
    "        score = 0\n",
    "        #restart env \n",
    "        env_itter = env.reset(train_mode=True)[brain_name] #note training = True here\n",
    "        #extract first state value\n",
    "        state = env_itter.vector_observations[0]\n",
    "        \n",
    "        for t in range(max_t):\n",
    "            \n",
    "            action = agent.act(state, eps)\n",
    "            #new env given action\n",
    "            env_itter = env.step(action)[brain_name]\n",
    "            new_state = env_itter.vector_observations[0]\n",
    "            reward = env_itter.rewards[0]\n",
    "            done = env_itter.local_done[0]\n",
    "            #feed states/actions to the agent\n",
    "            agent.step(state, action, reward,new_state, done)\n",
    "            state = new_state\n",
    "            score += reward\n",
    "            \n",
    "            if done:\n",
    "                break\n",
    "                \n",
    "        score_window.append(score)       # save most recent score\n",
    "        scores.append(score)              # save most recent score\n",
    "        eps = max(eps_end, eps_decay*eps) # decrease epsilon\n",
    "        print('\\rEpisode {}\\tAverage Score: {:.2f}'.format(i_ep, np.mean(score_window)), end=\"\")\n",
    "        if i_ep % 100 == 0:\n",
    "            print('\\rEpisode {}\\tAverage Score: {:.2f}'.format(i_ep, np.mean(score_window)))\n",
    "            \n",
    "            if np.mean(score_window)>=13:\n",
    "                #Save weights once we have beat the environment \n",
    "                torch.save(agent.qnetwork_local.state_dict(), path + str(i_ep)+'checkpoint.pth')\n",
    "                \n",
    "    return scores\n",
    "\n",
    "    \n",
    "    "
   ]
  },
  {
   "cell_type": "code",
   "execution_count": 9,
   "metadata": {
    "scrolled": true
   },
   "outputs": [
    {
     "name": "stdout",
     "output_type": "stream",
     "text": [
      "Episode 100\tAverage Score: 0.11\n",
      "Episode 200\tAverage Score: 3.33\n",
      "Episode 300\tAverage Score: 7.37\n",
      "Episode 400\tAverage Score: 9.91\n",
      "Episode 500\tAverage Score: 13.42\n",
      "Episode 600\tAverage Score: 14.74\n",
      "Episode 700\tAverage Score: 15.67\n",
      "Episode 800\tAverage Score: 15.26\n",
      "Episode 900\tAverage Score: 14.96\n",
      "Episode 1000\tAverage Score: 15.31\n",
      "Episode 1100\tAverage Score: 15.09\n",
      "Episode 1200\tAverage Score: 14.30\n",
      "Episode 1300\tAverage Score: 15.12\n",
      "Episode 1400\tAverage Score: 15.50\n",
      "Episode 1500\tAverage Score: 15.00\n",
      "Episode 1600\tAverage Score: 14.39\n",
      "Episode 1700\tAverage Score: 14.56\n",
      "Episode 1800\tAverage Score: 15.63\n",
      "Episode 1900\tAverage Score: 14.52\n",
      "Episode 2000\tAverage Score: 14.49\n"
     ]
    }
   ],
   "source": [
    "#train our agent!\n",
    "scores = ddqn()\n",
    "\n"
   ]
  },
  {
   "cell_type": "code",
   "execution_count": 12,
   "metadata": {},
   "outputs": [],
   "source": [
    "#save scores out to import later if needed\n",
    "pd.Series(scores,name='scores').to_csv(path+'scores.csv')"
   ]
  },
  {
   "cell_type": "code",
   "execution_count": 13,
   "metadata": {},
   "outputs": [
    {
     "data": {
      "image/png": "[encoded data removed]",
      "text/plain": [
       "<matplotlib.figure.Figure at 0x7f19576d5160>"
      ]
     },
     "metadata": {},
     "output_type": "display_data"
    }
   ],
   "source": [
    "fig = plt.figure()\n",
    "ax = fig.add_subplot(111)\n",
    "plt.plot(np.arange(len(scores)), scores)\n",
    "plt.ylabel('Score')\n",
    "plt.xlabel('Episode #')\n",
    "plt.savefig(path+'ddqn_score_graph.png')\n",
    "plt.show()\n"
   ]
  },
  {
   "cell_type": "code",
   "execution_count": 16,
   "metadata": {},
   "outputs": [
    {
     "data": {
      "text/plain": [
       "29.0"
      ]
     },
     "execution_count": 16,
     "metadata": {},
     "output_type": "execute_result"
    }
   ],
   "source": [
    "#the training curve looks good!\n",
    "#check what our max score is\n",
    "max(scores)"
   ]
  },
  {
   "cell_type": "code",
   "execution_count": null,
   "metadata": {},
   "outputs": [],
   "source": []
  },
  {
   "cell_type": "code",
   "execution_count": null,
   "metadata": {},
   "outputs": [],
   "source": []
  },
  {
   "cell_type": "code",
   "execution_count": null,
   "metadata": {},
   "outputs": [],
   "source": []
  }
 ],
 "metadata": {
  "kernelspec": {
   "display_name": "Python 3",
   "language": "python",
   "name": "python3"
  },
  "language_info": {
   "codemirror_mode": {
    "name": "ipython",
    "version": 3
   },
   "file_extension": ".py",
   "mimetype": "text/x-python",
   "name": "python",
   "nbconvert_exporter": "python",
   "pygments_lexer": "ipython3",
   "version": "3.6.4"
  }
 },
 "nbformat": 4,
 "nbformat_minor": 2
}
